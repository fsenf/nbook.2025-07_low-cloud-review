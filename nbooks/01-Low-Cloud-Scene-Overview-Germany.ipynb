{
 "cells": [
  {
   "cell_type": "markdown",
   "id": "13e0a9c1-5257-4fa1-8d7b-45c0b5913246",
   "metadata": {},
   "source": [
    "# Overview on a Low Cloud Scene over Germany"
   ]
  },
  {
   "cell_type": "markdown",
   "id": "16df088d-4bbb-4b5b-83a9-c1ede0b25cde",
   "metadata": {},
   "source": [
    "## Libraries"
   ]
  },
  {
   "cell_type": "code",
   "execution_count": 1,
   "id": "2988a7f1-bd56-4be5-8225-78da8f4a6d35",
   "metadata": {},
   "outputs": [
    {
     "name": "stderr",
     "output_type": "stream",
     "text": [
      "/tmp/ipykernel_1407038/1332190966.py:4: UserWarning: 'satpy.resample.get_area_def' has been moved to 'satpy.area.get_area_def'. Import from the new location instead (ex. 'from satpy.area import get_area_def'). The old import paths will be removed in Satpy 1.0\n",
      "  from satpy.resample import get_area_def\n",
      "/tmp/ipykernel_1407038/1332190966.py:5: UserWarning: 'satpy.writers.get_enhanced_image' has been moved to 'satpy.enhancements.enhancer.get_enhanced_image'. Import from the new location instead (ex. 'from satpy.enhancements.enhancer import get_enhanced_image'). The old import paths will be removed in Satpy 1.0\n",
      "  from satpy.writers import get_enhanced_image\n"
     ]
    }
   ],
   "source": [
    "## %load ../scripts/animate_L1_fci.py\n",
    "import numpy as np\n",
    "from satpy.scene import Scene\n",
    "from satpy.resample import get_area_def \n",
    "from satpy.writers import get_enhanced_image\n",
    "import glob\n",
    "import matplotlib.pyplot as plt\n",
    "import cartopy\n",
    "import cartopy.crs as ccrs"
   ]
  },
  {
   "cell_type": "markdown",
   "id": "814711f0-993d-4e22-a364-80dc264db608",
   "metadata": {},
   "source": [
    "## Open data"
   ]
  },
  {
   "cell_type": "code",
   "execution_count": 2,
   "id": "b197c6ab-79ff-4d68-b373-4dc724e93247",
   "metadata": {},
   "outputs": [
    {
     "name": "stdout",
     "output_type": "stream",
     "text": [
      "/work/bb1376/user/fabian/data/fci/fci_l1c_input_data/*BODY---*_0037_003[7-8]*nc\n",
      "['/work/bb1376/user/fabian/data/fci/fci_l1c_input_data/W_XX-EUMETSAT-Darmstadt,IMG+SAT,MTI1+FCI-1C-RRAD-HRFI-FD--CHK-BODY---NC4E_C_EUMT_20250619061100_IDPFI_OPE_20250619060834_20250619060917_N__O_0037_0037.nc', '/work/bb1376/user/fabian/data/fci/fci_l1c_input_data/W_XX-EUMETSAT-Darmstadt,IMG+SAT,MTI1+FCI-1C-RRAD-FDHSI-FD--CHK-BODY---NC4E_C_EUMT_20250619061100_IDPFI_OPE_20250619060850_20250619060923_N__O_0037_0038.nc', '/work/bb1376/user/fabian/data/fci/fci_l1c_input_data/W_XX-EUMETSAT-Darmstadt,IMG+SAT,MTI1+FCI-1C-RRAD-FDHSI-FD--CHK-BODY---NC4E_C_EUMT_20250619061100_IDPFI_OPE_20250619060834_20250619060917_N__O_0037_0037.nc', '/work/bb1376/user/fabian/data/fci/fci_l1c_input_data/W_XX-EUMETSAT-Darmstadt,IMG+SAT,MTI1+FCI-1C-RRAD-HRFI-FD--CHK-BODY---NC4E_C_EUMT_20250619061100_IDPFI_OPE_20250619060850_20250619060923_N__O_0037_0038.nc']\n"
     ]
    },
    {
     "name": "stderr",
     "output_type": "stream",
     "text": [
      "The following datasets were not created and may require resampling to be generated: DataID(name='true_color')\n"
     ]
    },
    {
     "name": "stdout",
     "output_type": "stream",
     "text": [
      "/work/bb1376/user/fabian/data/fci/fci_l1c_input_data/*BODY---*_0038_003[7-8]*nc\n",
      "['/work/bb1376/user/fabian/data/fci/fci_l1c_input_data/W_XX-EUMETSAT-Darmstadt,IMG+SAT,MTI1+FCI-1C-RRAD-HRFI-FD--CHK-BODY---NC4E_C_EUMT_20250619062057_IDPFI_OPE_20250619061834_20250619061917_N__O_0038_0037.nc', '/work/bb1376/user/fabian/data/fci/fci_l1c_input_data/W_XX-EUMETSAT-Darmstadt,IMG+SAT,MTI1+FCI-1C-RRAD-FDHSI-FD--CHK-BODY---NC4E_C_EUMT_20250619062058_IDPFI_OPE_20250619061850_20250619061923_N__O_0038_0038.nc', '/work/bb1376/user/fabian/data/fci/fci_l1c_input_data/W_XX-EUMETSAT-Darmstadt,IMG+SAT,MTI1+FCI-1C-RRAD-FDHSI-FD--CHK-BODY---NC4E_C_EUMT_20250619062057_IDPFI_OPE_20250619061834_20250619061917_N__O_0038_0037.nc', '/work/bb1376/user/fabian/data/fci/fci_l1c_input_data/W_XX-EUMETSAT-Darmstadt,IMG+SAT,MTI1+FCI-1C-RRAD-HRFI-FD--CHK-BODY---NC4E_C_EUMT_20250619062058_IDPFI_OPE_20250619061850_20250619061923_N__O_0038_0038.nc']\n"
     ]
    },
    {
     "name": "stderr",
     "output_type": "stream",
     "text": [
      "The following datasets were not created and may require resampling to be generated: DataID(name='true_color')\n"
     ]
    },
    {
     "name": "stdout",
     "output_type": "stream",
     "text": [
      "/work/bb1376/user/fabian/data/fci/fci_l1c_input_data/*BODY---*_0039_003[7-8]*nc\n",
      "['/work/bb1376/user/fabian/data/fci/fci_l1c_input_data/W_XX-EUMETSAT-Darmstadt,IMG+SAT,MTI1+FCI-1C-RRAD-HRFI-FD--CHK-BODY---NC4E_C_EUMT_20250619063105_IDPFI_OPE_20250619062850_20250619062923_N__O_0039_0038.nc', '/work/bb1376/user/fabian/data/fci/fci_l1c_input_data/W_XX-EUMETSAT-Darmstadt,IMG+SAT,MTI1+FCI-1C-RRAD-FDHSI-FD--CHK-BODY---NC4E_C_EUMT_20250619063057_IDPFI_OPE_20250619062834_20250619062917_N__O_0039_0037.nc', '/work/bb1376/user/fabian/data/fci/fci_l1c_input_data/W_XX-EUMETSAT-Darmstadt,IMG+SAT,MTI1+FCI-1C-RRAD-HRFI-FD--CHK-BODY---NC4E_C_EUMT_20250619063057_IDPFI_OPE_20250619062834_20250619062917_N__O_0039_0037.nc', '/work/bb1376/user/fabian/data/fci/fci_l1c_input_data/W_XX-EUMETSAT-Darmstadt,IMG+SAT,MTI1+FCI-1C-RRAD-FDHSI-FD--CHK-BODY---NC4E_C_EUMT_20250619063105_IDPFI_OPE_20250619062850_20250619062923_N__O_0039_0038.nc']\n"
     ]
    },
    {
     "name": "stderr",
     "output_type": "stream",
     "text": [
      "The following datasets were not created and may require resampling to be generated: DataID(name='true_color')\n"
     ]
    }
   ],
   "source": [
    "#Germany scene\n",
    "date=\"20250619\"\n",
    "custom_box=[6, 50, 12, 55] \n",
    "chunks=\"003[7-8]\"  #these are the chunks over N Germany\n",
    "\n",
    "# define path to FCI data folder\n",
    "datadir=\"/work/bb1376/user/fabian/data/fci/fci_l1c_input_data/\"\n",
    "channel_name='true_color' # to select channel or RGB composite to visualize\n",
    "\n",
    "\n",
    "# list of repeat cycles to use in the animation. These should be in the data\n",
    "# downloaded from eumdac in datadir. One can use all data or a subset, \n",
    "# explicitly defining the RC number to use. Generally a daytime animation\n",
    "# from ~6Z to ~19Z covers RCs numbers from 30 to 120.\n",
    "RCs=np.arange(37,40)\n",
    "\n",
    "data = {}\n",
    "for RC in RCs:\n",
    "    path_to_data = datadir+\"*BODY---*_{:04d}_\".format(RC)+chunks+\"*nc\"\n",
    "    print(path_to_data)\n",
    "    # find files and assign the FCI reader\n",
    "    # each FCI full disk repeat cycle contains 40 chunks.\n",
    "    # to speed processing up we only use the chunks relevant to the ROI\n",
    "    files = glob.glob(path_to_data)\n",
    "    print(files)\n",
    "    # create an FCI scene from the selected files.\n",
    "    # the satpy reader automatically stitches the chunks\n",
    "    scn_orig = Scene(reader='fci_l1c_nc',filenames=files)\n",
    "    # available dataset names for this scene, e.g., 'vis_04', 'vis_05', ...\n",
    "    #print(scn.available_dataset_names())\n",
    "    # available composite names for this scene, e.g., 'natural_color',\n",
    "    # 'airmass', 'convection', ...\n",
    "    #print(scn_orig.available_composite_names())\n",
    "\n",
    "    # load the datasets/composites of interest\n",
    "    scn_orig.load([channel_name],upper_right_corner='NE')\n",
    "\n",
    "    # resampling the channels to the highest available in the composite\n",
    "    scn_res=scn_orig.resample(resampler=\"native\")\n",
    "    # crop to the required ROI\n",
    "    scn= scn_res.crop(ll_bbox=custom_box)\n",
    "\n",
    "    data[RC] = scn    \n"
   ]
  },
  {
   "cell_type": "code",
   "execution_count": 3,
   "id": "29a502c5-064b-4b3a-8119-635871cce1d9",
   "metadata": {},
   "outputs": [
    {
     "data": {
      "text/plain": [
       "{np.int64(37): <satpy.scene.Scene at 0x7fff7f4399a0>,\n",
       " np.int64(38): <satpy.scene.Scene at 0x7fff7ff11eb0>,\n",
       " np.int64(39): <satpy.scene.Scene at 0x7fff86117c50>}"
      ]
     },
     "execution_count": 3,
     "metadata": {},
     "output_type": "execute_result"
    }
   ],
   "source": [
    "data"
   ]
  },
  {
   "cell_type": "code",
   "execution_count": 4,
   "id": "fb88c079-cbe7-493f-afc0-4451fb1d67a3",
   "metadata": {},
   "outputs": [
    {
     "ename": "ValueError",
     "evalue": "operands could not be broadcast together with shapes (278,11136) (279,11136) ",
     "output_type": "error",
     "traceback": [
      "\u001b[31m---------------------------------------------------------------------------\u001b[39m",
      "\u001b[31mValueError\u001b[39m                                Traceback (most recent call last)",
      "\u001b[36mCell\u001b[39m\u001b[36m \u001b[39m\u001b[32mIn[4]\u001b[39m\u001b[32m, line 1\u001b[39m\n\u001b[32m----> \u001b[39m\u001b[32m1\u001b[39m \u001b[43mdata\u001b[49m\u001b[43m[\u001b[49m\u001b[32;43m37\u001b[39;49m\u001b[43m]\u001b[49m\u001b[43m[\u001b[49m\u001b[43mchannel_name\u001b[49m\u001b[43m]\u001b[49m\u001b[43m.\u001b[49m\u001b[43mload\u001b[49m\u001b[43m(\u001b[49m\u001b[43m)\u001b[49m\n",
      "\u001b[36mFile \u001b[39m\u001b[32m/work/bb1376/tools/python/eumdac-python3.12-mamba/lib/python3.12/site-packages/xarray/core/dataarray.py:1157\u001b[39m, in \u001b[36mDataArray.load\u001b[39m\u001b[34m(self, **kwargs)\u001b[39m\n\u001b[32m   1137\u001b[39m \u001b[38;5;28;01mdef\u001b[39;00m\u001b[38;5;250m \u001b[39m\u001b[34mload\u001b[39m(\u001b[38;5;28mself\u001b[39m, **kwargs) -> Self:\n\u001b[32m   1138\u001b[39m \u001b[38;5;250m    \u001b[39m\u001b[33;03m\"\"\"Manually trigger loading of this array's data from disk or a\u001b[39;00m\n\u001b[32m   1139\u001b[39m \u001b[33;03m    remote source into memory and return this array.\u001b[39;00m\n\u001b[32m   1140\u001b[39m \n\u001b[32m   (...)\u001b[39m\u001b[32m   1155\u001b[39m \u001b[33;03m    dask.compute\u001b[39;00m\n\u001b[32m   1156\u001b[39m \u001b[33;03m    \"\"\"\u001b[39;00m\n\u001b[32m-> \u001b[39m\u001b[32m1157\u001b[39m     ds = \u001b[38;5;28;43mself\u001b[39;49m\u001b[43m.\u001b[49m\u001b[43m_to_temp_dataset\u001b[49m\u001b[43m(\u001b[49m\u001b[43m)\u001b[49m\u001b[43m.\u001b[49m\u001b[43mload\u001b[49m\u001b[43m(\u001b[49m\u001b[43m*\u001b[49m\u001b[43m*\u001b[49m\u001b[43mkwargs\u001b[49m\u001b[43m)\u001b[49m\n\u001b[32m   1158\u001b[39m     new = \u001b[38;5;28mself\u001b[39m._from_temp_dataset(ds)\n\u001b[32m   1159\u001b[39m     \u001b[38;5;28mself\u001b[39m._variable = new._variable\n",
      "\u001b[36mFile \u001b[39m\u001b[32m/work/bb1376/tools/python/eumdac-python3.12-mamba/lib/python3.12/site-packages/xarray/core/dataset.py:542\u001b[39m, in \u001b[36mDataset.load\u001b[39m\u001b[34m(self, **kwargs)\u001b[39m\n\u001b[32m    539\u001b[39m chunkmanager = get_chunked_array_type(*lazy_data.values())\n\u001b[32m    541\u001b[39m \u001b[38;5;66;03m# evaluate all the chunked arrays simultaneously\u001b[39;00m\n\u001b[32m--> \u001b[39m\u001b[32m542\u001b[39m evaluated_data: \u001b[38;5;28mtuple\u001b[39m[np.ndarray[Any, Any], ...] = \u001b[43mchunkmanager\u001b[49m\u001b[43m.\u001b[49m\u001b[43mcompute\u001b[49m\u001b[43m(\u001b[49m\n\u001b[32m    543\u001b[39m \u001b[43m    \u001b[49m\u001b[43m*\u001b[49m\u001b[43mlazy_data\u001b[49m\u001b[43m.\u001b[49m\u001b[43mvalues\u001b[49m\u001b[43m(\u001b[49m\u001b[43m)\u001b[49m\u001b[43m,\u001b[49m\u001b[43m \u001b[49m\u001b[43m*\u001b[49m\u001b[43m*\u001b[49m\u001b[43mkwargs\u001b[49m\n\u001b[32m    544\u001b[39m \u001b[43m\u001b[49m\u001b[43m)\u001b[49m\n\u001b[32m    546\u001b[39m \u001b[38;5;28;01mfor\u001b[39;00m k, data \u001b[38;5;129;01min\u001b[39;00m \u001b[38;5;28mzip\u001b[39m(lazy_data, evaluated_data, strict=\u001b[38;5;28;01mFalse\u001b[39;00m):\n\u001b[32m    547\u001b[39m     \u001b[38;5;28mself\u001b[39m.variables[k].data = data\n",
      "\u001b[36mFile \u001b[39m\u001b[32m/work/bb1376/tools/python/eumdac-python3.12-mamba/lib/python3.12/site-packages/xarray/namedarray/daskmanager.py:85\u001b[39m, in \u001b[36mDaskManager.compute\u001b[39m\u001b[34m(self, *data, **kwargs)\u001b[39m\n\u001b[32m     80\u001b[39m \u001b[38;5;28;01mdef\u001b[39;00m\u001b[38;5;250m \u001b[39m\u001b[34mcompute\u001b[39m(\n\u001b[32m     81\u001b[39m     \u001b[38;5;28mself\u001b[39m, *data: Any, **kwargs: Any\n\u001b[32m     82\u001b[39m ) -> \u001b[38;5;28mtuple\u001b[39m[np.ndarray[Any, _DType_co], ...]:\n\u001b[32m     83\u001b[39m     \u001b[38;5;28;01mfrom\u001b[39;00m\u001b[38;5;250m \u001b[39m\u001b[34;01mdask\u001b[39;00m\u001b[34;01m.\u001b[39;00m\u001b[34;01marray\u001b[39;00m\u001b[38;5;250m \u001b[39m\u001b[38;5;28;01mimport\u001b[39;00m compute\n\u001b[32m---> \u001b[39m\u001b[32m85\u001b[39m     \u001b[38;5;28;01mreturn\u001b[39;00m \u001b[43mcompute\u001b[49m\u001b[43m(\u001b[49m\u001b[43m*\u001b[49m\u001b[43mdata\u001b[49m\u001b[43m,\u001b[49m\u001b[43m \u001b[49m\u001b[43m*\u001b[49m\u001b[43m*\u001b[49m\u001b[43mkwargs\u001b[49m\u001b[43m)\u001b[49m\n",
      "\u001b[36mFile \u001b[39m\u001b[32m/work/bb1376/tools/python/eumdac-python3.12-mamba/lib/python3.12/site-packages/dask/base.py:681\u001b[39m, in \u001b[36mcompute\u001b[39m\u001b[34m(traverse, optimize_graph, scheduler, get, *args, **kwargs)\u001b[39m\n\u001b[32m    678\u001b[39m     expr = expr.optimize()\n\u001b[32m    679\u001b[39m     keys = \u001b[38;5;28mlist\u001b[39m(flatten(expr.__dask_keys__()))\n\u001b[32m--> \u001b[39m\u001b[32m681\u001b[39m     results = \u001b[43mschedule\u001b[49m\u001b[43m(\u001b[49m\u001b[43mexpr\u001b[49m\u001b[43m,\u001b[49m\u001b[43m \u001b[49m\u001b[43mkeys\u001b[49m\u001b[43m,\u001b[49m\u001b[43m \u001b[49m\u001b[43m*\u001b[49m\u001b[43m*\u001b[49m\u001b[43mkwargs\u001b[49m\u001b[43m)\u001b[49m\n\u001b[32m    683\u001b[39m \u001b[38;5;28;01mreturn\u001b[39;00m repack(results)\n",
      "\u001b[36mFile \u001b[39m\u001b[32m/work/bb1376/tools/python/eumdac-python3.12-mamba/lib/python3.12/site-packages/satpy/modifiers/angles.py:584\u001b[39m, in \u001b[36m_sunzen_corr_cos_ndarray\u001b[39m\u001b[34m(data, cos_zen, limit, max_sza)\u001b[39m\n\u001b[32m    582\u001b[39m \u001b[38;5;66;03m# Force \"night\" pixels to 0 (where SZA is invalid)\u001b[39;00m\n\u001b[32m    583\u001b[39m corr[np.isnan(cos_zen)] = \u001b[32m0\u001b[39m\n\u001b[32m--> \u001b[39m\u001b[32m584\u001b[39m \u001b[38;5;28;01mreturn\u001b[39;00m \u001b[43mdata\u001b[49m\u001b[43m \u001b[49m\u001b[43m*\u001b[49m\u001b[43m \u001b[49m\u001b[43mcorr\u001b[49m\n",
      "\u001b[31mValueError\u001b[39m: operands could not be broadcast together with shapes (278,11136) (279,11136) "
     ]
    }
   ],
   "source": [
    "data[37][channel_name].load()"
   ]
  },
  {
   "cell_type": "markdown",
   "id": "01c526e6-b42c-41d0-9080-6a19996f46c3",
   "metadata": {},
   "source": [
    "## Plotting"
   ]
  },
  {
   "cell_type": "code",
   "execution_count": 5,
   "id": "095fd07e-b96b-4484-9383-e38ab1138e61",
   "metadata": {},
   "outputs": [
    {
     "ename": "ValueError",
     "evalue": "operands could not be broadcast together with shapes (278,11136) (279,11136) ",
     "output_type": "error",
     "traceback": [
      "\u001b[31m---------------------------------------------------------------------------\u001b[39m",
      "\u001b[31mValueError\u001b[39m                                Traceback (most recent call last)",
      "\u001b[36mCell\u001b[39m\u001b[36m \u001b[39m\u001b[32mIn[5]\u001b[39m\u001b[32m, line 10\u001b[39m\n\u001b[32m      3\u001b[39m scn = data[RC]\n\u001b[32m      5\u001b[39m \u001b[38;5;66;03m## handle 3-channel RGB\u001b[39;00m\n\u001b[32m      6\u001b[39m \u001b[38;5;66;03m#if len(scn[channel_name].shape) == 3:\u001b[39;00m\n\u001b[32m      7\u001b[39m \u001b[38;5;66;03m#    values = get_enhanced_image(scn[channel_name]).data.values.transpose(1,2,0)\u001b[39;00m\n\u001b[32m      8\u001b[39m \u001b[38;5;66;03m#else:\u001b[39;00m\n\u001b[32m---> \u001b[39m\u001b[32m10\u001b[39m values = \u001b[43mscn\u001b[49m\u001b[43m[\u001b[49m\u001b[43mchannel_name\u001b[49m\u001b[43m]\u001b[49m\u001b[43m.\u001b[49m\u001b[43mvalues\u001b[49m\n\u001b[32m     13\u001b[39m \u001b[38;5;66;03m# set geolocation information\u001b[39;00m\n\u001b[32m     14\u001b[39m adef = scn[channel_name].attrs[\u001b[33m'\u001b[39m\u001b[33marea\u001b[39m\u001b[33m'\u001b[39m]\n",
      "\u001b[36mFile \u001b[39m\u001b[32m/work/bb1376/tools/python/eumdac-python3.12-mamba/lib/python3.12/site-packages/xarray/core/dataarray.py:797\u001b[39m, in \u001b[36mDataArray.values\u001b[39m\u001b[34m(self)\u001b[39m\n\u001b[32m    784\u001b[39m \u001b[38;5;129m@property\u001b[39m\n\u001b[32m    785\u001b[39m \u001b[38;5;28;01mdef\u001b[39;00m\u001b[38;5;250m \u001b[39m\u001b[34mvalues\u001b[39m(\u001b[38;5;28mself\u001b[39m) -> np.ndarray:\n\u001b[32m    786\u001b[39m \u001b[38;5;250m    \u001b[39m\u001b[33;03m\"\"\"\u001b[39;00m\n\u001b[32m    787\u001b[39m \u001b[33;03m    The array's data converted to numpy.ndarray.\u001b[39;00m\n\u001b[32m    788\u001b[39m \n\u001b[32m   (...)\u001b[39m\u001b[32m    795\u001b[39m \u001b[33;03m    to this array may be reflected in the DataArray as well.\u001b[39;00m\n\u001b[32m    796\u001b[39m \u001b[33;03m    \"\"\"\u001b[39;00m\n\u001b[32m--> \u001b[39m\u001b[32m797\u001b[39m     \u001b[38;5;28;01mreturn\u001b[39;00m \u001b[38;5;28;43mself\u001b[39;49m\u001b[43m.\u001b[49m\u001b[43mvariable\u001b[49m\u001b[43m.\u001b[49m\u001b[43mvalues\u001b[49m\n",
      "\u001b[36mFile \u001b[39m\u001b[32m/work/bb1376/tools/python/eumdac-python3.12-mamba/lib/python3.12/site-packages/xarray/core/variable.py:530\u001b[39m, in \u001b[36mVariable.values\u001b[39m\u001b[34m(self)\u001b[39m\n\u001b[32m    527\u001b[39m \u001b[38;5;129m@property\u001b[39m\n\u001b[32m    528\u001b[39m \u001b[38;5;28;01mdef\u001b[39;00m\u001b[38;5;250m \u001b[39m\u001b[34mvalues\u001b[39m(\u001b[38;5;28mself\u001b[39m) -> np.ndarray:\n\u001b[32m    529\u001b[39m \u001b[38;5;250m    \u001b[39m\u001b[33;03m\"\"\"The variable's data as a numpy.ndarray\"\"\"\u001b[39;00m\n\u001b[32m--> \u001b[39m\u001b[32m530\u001b[39m     \u001b[38;5;28;01mreturn\u001b[39;00m \u001b[43m_as_array_or_item\u001b[49m\u001b[43m(\u001b[49m\u001b[38;5;28;43mself\u001b[39;49m\u001b[43m.\u001b[49m\u001b[43m_data\u001b[49m\u001b[43m)\u001b[49m\n",
      "\u001b[36mFile \u001b[39m\u001b[32m/work/bb1376/tools/python/eumdac-python3.12-mamba/lib/python3.12/site-packages/xarray/core/variable.py:315\u001b[39m, in \u001b[36m_as_array_or_item\u001b[39m\u001b[34m(data)\u001b[39m\n\u001b[32m    301\u001b[39m \u001b[38;5;28;01mdef\u001b[39;00m\u001b[38;5;250m \u001b[39m\u001b[34m_as_array_or_item\u001b[39m(data):\n\u001b[32m    302\u001b[39m \u001b[38;5;250m    \u001b[39m\u001b[33;03m\"\"\"Return the given values as a numpy array, or as an individual item if\u001b[39;00m\n\u001b[32m    303\u001b[39m \u001b[33;03m    it's a 0d datetime64 or timedelta64 array.\u001b[39;00m\n\u001b[32m    304\u001b[39m \n\u001b[32m   (...)\u001b[39m\u001b[32m    313\u001b[39m \u001b[33;03m    TODO: remove this (replace with np.asarray) once these issues are fixed\u001b[39;00m\n\u001b[32m    314\u001b[39m \u001b[33;03m    \"\"\"\u001b[39;00m\n\u001b[32m--> \u001b[39m\u001b[32m315\u001b[39m     data = \u001b[43mnp\u001b[49m\u001b[43m.\u001b[49m\u001b[43masarray\u001b[49m\u001b[43m(\u001b[49m\u001b[43mdata\u001b[49m\u001b[43m)\u001b[49m\n\u001b[32m    316\u001b[39m     \u001b[38;5;28;01mif\u001b[39;00m data.ndim == \u001b[32m0\u001b[39m:\n\u001b[32m    317\u001b[39m         kind = data.dtype.kind\n",
      "\u001b[36mFile \u001b[39m\u001b[32m/work/bb1376/tools/python/eumdac-python3.12-mamba/lib/python3.12/site-packages/dask/array/core.py:1724\u001b[39m, in \u001b[36mArray.__array__\u001b[39m\u001b[34m(self, dtype, copy, **kwargs)\u001b[39m\n\u001b[32m   1717\u001b[39m \u001b[38;5;28;01mif\u001b[39;00m copy \u001b[38;5;129;01mis\u001b[39;00m \u001b[38;5;28;01mFalse\u001b[39;00m:\n\u001b[32m   1718\u001b[39m     warnings.warn(\n\u001b[32m   1719\u001b[39m         \u001b[33m\"\u001b[39m\u001b[33mCan\u001b[39m\u001b[33m'\u001b[39m\u001b[33mt acquire a memory view of a Dask array. \u001b[39m\u001b[33m\"\u001b[39m\n\u001b[32m   1720\u001b[39m         \u001b[33m\"\u001b[39m\u001b[33mThis will raise in the future.\u001b[39m\u001b[33m\"\u001b[39m,\n\u001b[32m   1721\u001b[39m         \u001b[38;5;167;01mFutureWarning\u001b[39;00m,\n\u001b[32m   1722\u001b[39m     )\n\u001b[32m-> \u001b[39m\u001b[32m1724\u001b[39m x = \u001b[38;5;28;43mself\u001b[39;49m\u001b[43m.\u001b[49m\u001b[43mcompute\u001b[49m\u001b[43m(\u001b[49m\u001b[43m)\u001b[49m\n\u001b[32m   1726\u001b[39m \u001b[38;5;66;03m# Apply requested dtype and convert non-numpy backends to numpy.\u001b[39;00m\n\u001b[32m   1727\u001b[39m \u001b[38;5;66;03m# If copy is True, numpy is going to perform its own deep copy\u001b[39;00m\n\u001b[32m   1728\u001b[39m \u001b[38;5;66;03m# after this method returns.\u001b[39;00m\n\u001b[32m   1729\u001b[39m \u001b[38;5;66;03m# If copy is None, finalize() ensures that the returned object\u001b[39;00m\n\u001b[32m   1730\u001b[39m \u001b[38;5;66;03m# does not share memory with an object stored in the graph or on a\u001b[39;00m\n\u001b[32m   1731\u001b[39m \u001b[38;5;66;03m# process-local Worker.\u001b[39;00m\n\u001b[32m   1732\u001b[39m \u001b[38;5;28;01mreturn\u001b[39;00m np.asarray(x, dtype=dtype)\n",
      "\u001b[36mFile \u001b[39m\u001b[32m/work/bb1376/tools/python/eumdac-python3.12-mamba/lib/python3.12/site-packages/dask/base.py:373\u001b[39m, in \u001b[36mDaskMethodsMixin.compute\u001b[39m\u001b[34m(self, **kwargs)\u001b[39m\n\u001b[32m    349\u001b[39m \u001b[38;5;28;01mdef\u001b[39;00m\u001b[38;5;250m \u001b[39m\u001b[34mcompute\u001b[39m(\u001b[38;5;28mself\u001b[39m, **kwargs):\n\u001b[32m    350\u001b[39m \u001b[38;5;250m    \u001b[39m\u001b[33;03m\"\"\"Compute this dask collection\u001b[39;00m\n\u001b[32m    351\u001b[39m \n\u001b[32m    352\u001b[39m \u001b[33;03m    This turns a lazy Dask collection into its in-memory equivalent.\u001b[39;00m\n\u001b[32m   (...)\u001b[39m\u001b[32m    371\u001b[39m \u001b[33;03m    dask.compute\u001b[39;00m\n\u001b[32m    372\u001b[39m \u001b[33;03m    \"\"\"\u001b[39;00m\n\u001b[32m--> \u001b[39m\u001b[32m373\u001b[39m     (result,) = \u001b[43mcompute\u001b[49m\u001b[43m(\u001b[49m\u001b[38;5;28;43mself\u001b[39;49m\u001b[43m,\u001b[49m\u001b[43m \u001b[49m\u001b[43mtraverse\u001b[49m\u001b[43m=\u001b[49m\u001b[38;5;28;43;01mFalse\u001b[39;49;00m\u001b[43m,\u001b[49m\u001b[43m \u001b[49m\u001b[43m*\u001b[49m\u001b[43m*\u001b[49m\u001b[43mkwargs\u001b[49m\u001b[43m)\u001b[49m\n\u001b[32m    374\u001b[39m     \u001b[38;5;28;01mreturn\u001b[39;00m result\n",
      "\u001b[36mFile \u001b[39m\u001b[32m/work/bb1376/tools/python/eumdac-python3.12-mamba/lib/python3.12/site-packages/dask/base.py:681\u001b[39m, in \u001b[36mcompute\u001b[39m\u001b[34m(traverse, optimize_graph, scheduler, get, *args, **kwargs)\u001b[39m\n\u001b[32m    678\u001b[39m     expr = expr.optimize()\n\u001b[32m    679\u001b[39m     keys = \u001b[38;5;28mlist\u001b[39m(flatten(expr.__dask_keys__()))\n\u001b[32m--> \u001b[39m\u001b[32m681\u001b[39m     results = \u001b[43mschedule\u001b[49m\u001b[43m(\u001b[49m\u001b[43mexpr\u001b[49m\u001b[43m,\u001b[49m\u001b[43m \u001b[49m\u001b[43mkeys\u001b[49m\u001b[43m,\u001b[49m\u001b[43m \u001b[49m\u001b[43m*\u001b[49m\u001b[43m*\u001b[49m\u001b[43mkwargs\u001b[49m\u001b[43m)\u001b[49m\n\u001b[32m    683\u001b[39m \u001b[38;5;28;01mreturn\u001b[39;00m repack(results)\n",
      "\u001b[36mFile \u001b[39m\u001b[32m/work/bb1376/tools/python/eumdac-python3.12-mamba/lib/python3.12/site-packages/satpy/modifiers/angles.py:584\u001b[39m, in \u001b[36m_sunzen_corr_cos_ndarray\u001b[39m\u001b[34m(data, cos_zen, limit, max_sza)\u001b[39m\n\u001b[32m    582\u001b[39m \u001b[38;5;66;03m# Force \"night\" pixels to 0 (where SZA is invalid)\u001b[39;00m\n\u001b[32m    583\u001b[39m corr[np.isnan(cos_zen)] = \u001b[32m0\u001b[39m\n\u001b[32m--> \u001b[39m\u001b[32m584\u001b[39m \u001b[38;5;28;01mreturn\u001b[39;00m \u001b[43mdata\u001b[49m\u001b[43m \u001b[49m\u001b[43m*\u001b[49m\u001b[43m \u001b[49m\u001b[43mcorr\u001b[49m\n",
      "\u001b[31mValueError\u001b[39m: operands could not be broadcast together with shapes (278,11136) (279,11136) "
     ]
    }
   ],
   "source": [
    "for RC in [37,]:\n",
    "\n",
    "    scn = data[RC]\n",
    "    \n",
    "    ## handle 3-channel RGB\n",
    "    #if len(scn[channel_name].shape) == 3:\n",
    "    #    values = get_enhanced_image(scn[channel_name]).data.values.transpose(1,2,0)\n",
    "    #else:\n",
    "        \n",
    "    values = scn[channel_name].values\n",
    "\n",
    "\n",
    "    # set geolocation information\n",
    "    adef = scn[channel_name].attrs['area']\n",
    "    crs = adef.to_cartopy_crs()\n",
    "\n",
    "\n",
    "    fig,axs = plt.subplots(ncols=1, figsize=(10, 10),subplot_kw={'projection': crs})\n",
    "    axs.coastlines(resolution='10m')\n",
    "    bodr = cartopy.feature.NaturalEarthFeature(category='cultural', \n",
    "                                               name='admin_0_boundary_lines_land', scale='50m', facecolor='none', alpha=0.6)\n",
    "    axs.add_feature(bodr, linestyle='--', edgecolor='k', alpha=0.8)\n",
    "    axs.set_axis_off()\n",
    "    #adapt colormap ranges\n",
    "    if 'vis' or 'nir' in channel_name:\n",
    "        vmin = 0\n",
    "        vmax = 40\n",
    "    elif 'ir' or 'wv' in channel_name:\n",
    "        vmin = 260\n",
    "        vmax = 300\n",
    "    else:\n",
    "        vmin = vmax = None\n",
    "\n",
    "    im = axs.imshow(values, transform=crs, extent=crs.bounds,\n",
    "                    interpolation='none',aspect=1,vmin=vmin,vmax=vmax)\n",
    "    axs.set_title(\"MTGI-1 FCI, \"+channel_name+\"\\n\"+str(scn[channel_name].attrs['end_time']))\n",
    "    fig.tight_layout()\n",
    "#    plt.savefig(\"frame_{:04d}.png\".format(RC))\n",
    "    print(\"fig {:04d} done\".format(RC))\n",
    "#    plt.show()"
   ]
  },
  {
   "cell_type": "code",
   "execution_count": null,
   "id": "24edd1d0-7f03-48be-a1fc-0caa816f0882",
   "metadata": {},
   "outputs": [],
   "source": [
    "scn"
   ]
  },
  {
   "cell_type": "code",
   "execution_count": null,
   "id": "7612f602-d6d6-4ae2-b26e-ea059e991226",
   "metadata": {},
   "outputs": [],
   "source": []
  }
 ],
 "metadata": {
  "kernelspec": {
   "display_name": "EUMDAC Python 3.12",
   "language": "python",
   "name": "eumdac-python3.12-mamba"
  },
  "language_info": {
   "codemirror_mode": {
    "name": "ipython",
    "version": 3
   },
   "file_extension": ".py",
   "mimetype": "text/x-python",
   "name": "python",
   "nbconvert_exporter": "python",
   "pygments_lexer": "ipython3",
   "version": "3.12.11"
  }
 },
 "nbformat": 4,
 "nbformat_minor": 5
}
